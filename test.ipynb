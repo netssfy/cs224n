{
 "cells": [
  {
   "cell_type": "code",
   "execution_count": 27,
   "metadata": {},
   "outputs": [
    {
     "name": "stdout",
     "output_type": "stream",
     "text": [
      "(5, 1)\n",
      "(1, 2)\n"
     ]
    }
   ],
   "source": [
    "import numpy as np\n",
    "\n",
    "a = np.array([1, 2]) #(2,)\n",
    "b = np.array([[1, 2, 3], [4, 5, 6]]) #(2,3)\n",
    "\n",
    "centerWordVec = np.array([1, 1, 1, 1, 1]) #\n",
    "delta = np.array([2, 2])\n",
    "\n",
    "centerWordVec[:, np.newaxis] @ delta[np.newaxis, :]\n",
    "\n",
    "delta[:, np.newaxis] @ centerWordVec[np.newaxis, :]\n",
    "\n",
    "print(centerWordVec[:, np.newaxis].shape)\n",
    "print(delta[np.newaxis, :].shape)"
   ]
  }
 ],
 "metadata": {
  "interpreter": {
   "hash": "4d15d41510c2a40aa338ab551a3c89dbecc452a4ad0226495eebaf68936ac11c"
  },
  "kernelspec": {
   "display_name": "Python 3.7.2 64-bit (system)",
   "language": "python",
   "name": "python3"
  },
  "language_info": {
   "codemirror_mode": {
    "name": "ipython",
    "version": 3
   },
   "file_extension": ".py",
   "mimetype": "text/x-python",
   "name": "python",
   "nbconvert_exporter": "python",
   "pygments_lexer": "ipython3",
   "version": "3.7.2"
  },
  "orig_nbformat": 4
 },
 "nbformat": 4,
 "nbformat_minor": 2
}
