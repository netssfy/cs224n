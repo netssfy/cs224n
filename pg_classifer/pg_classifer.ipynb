{
 "cells": [
  {
   "cell_type": "code",
   "execution_count": 109,
   "metadata": {},
   "outputs": [],
   "source": [
    "import numpy as np\n",
    "import pandas as pd\n",
    "import re\n",
    "import nltk\n",
    "import keras\n",
    "import tensorflow as tf\n",
    "from keras.preprocessing.text import Tokenizer\n",
    "from keras.preprocessing.sequence import pad_sequences\n",
    "\n",
    "# nltk.download()"
   ]
  },
  {
   "cell_type": "code",
   "execution_count": 126,
   "metadata": {},
   "outputs": [],
   "source": [
    "def load_raw_data():\n",
    "    return pd.read_csv('./data/raw.csv', quotechar='\"', header=None).to_numpy()\n",
    "\n",
    "\n",
    "def create_label_map(raw_data):\n",
    "    seen_y = {}\n",
    "    idx = 0\n",
    "    batch = len(raw_data)\n",
    "    Y = [None] * batch\n",
    "    for i in range(batch):\n",
    "        row = raw_data[i]        \n",
    "        y = raw_data[i][1]\n",
    "        if (y not in seen_y):\n",
    "            seen_y[y] = idx\n",
    "            idx += 1\n",
    "\n",
    "        Y[i] = seen_y[y]\n",
    "\n",
    "    y_map = {v: k for k, v in seen_y.items()}\n",
    "\n",
    "    return (np.array(Y), y_map)\n"
   ]
  },
  {
   "cell_type": "code",
   "execution_count": 127,
   "metadata": {},
   "outputs": [],
   "source": [
    "raw_data = load_raw_data()"
   ]
  },
  {
   "cell_type": "code",
   "execution_count": 128,
   "metadata": {},
   "outputs": [],
   "source": [
    "vocab_size=10000\n",
    "embedding_dim = 16\n",
    "\n",
    "X = raw_data[:, 0]\n",
    "tokenizer = Tokenizer(num_words=vocab_size, lower=True, oov_token='<OOV>')\n",
    "tokenizer.fit_on_texts(X)\n",
    "\n",
    "X = tokenizer.texts_to_sequences(X)\n",
    "X = pad_sequences(X)\n",
    "\n",
    "Y, y_map = create_label_map(raw_data)\n",
    "\n",
    "batch_size = len(X)\n",
    "train_size = int(0.8 * batch_size)\n",
    "val_size = batch_size - train_size\n",
    "\n",
    "train_X = X[:train_size]\n",
    "train_Y = Y[:train_size]\n",
    "val_X = X[train_size:]\n",
    "val_Y = Y[train_size:]\n"
   ]
  },
  {
   "cell_type": "code",
   "execution_count": 131,
   "metadata": {},
   "outputs": [
    {
     "name": "stdout",
     "output_type": "stream",
     "text": [
      "Epoch 1/3\n",
      "544/544 [==============================] - 2s 3ms/step - loss: 22387.9414 - accuracy: 1.7234e-04 - val_loss: 43168.1445 - val_accuracy: 0.0000e+00\n",
      "Epoch 2/3\n",
      "544/544 [==============================] - 2s 3ms/step - loss: 20528.6211 - accuracy: 1.7234e-04 - val_loss: 40239.2266 - val_accuracy: 0.0000e+00\n",
      "Epoch 3/3\n",
      "544/544 [==============================] - 2s 3ms/step - loss: 13892.1895 - accuracy: 1.7234e-04 - val_loss: 17958.3867 - val_accuracy: 2.2978e-04\n"
     ]
    }
   ],
   "source": [
    "model = keras.Sequential()\n",
    "\n",
    "model.add(keras.layers.Embedding(vocab_size, embedding_dim, input_length=len(X[0])))\n",
    "model.add(keras.layers.Flatten())\n",
    "model.compile(loss='binary_crossentropy', optimizer='adam', metrics=['accuracy'])\n",
    "\n",
    "history = model.fit(train_X, train_Y, epochs=3, validation_data=(val_X, val_Y))"
   ]
  },
  {
   "cell_type": "code",
   "execution_count": 150,
   "metadata": {},
   "outputs": [],
   "source": [
    "e = model.layers[0]\n",
    "w = e.get_weights()[0]\n",
    "\n",
    "import io\n",
    "out_v = io.open('vecs.tsv', 'w', encoding='utf-8')\n",
    "out_m = io.open('meta.tsv', 'w', encoding='utf-8')\n",
    "\n",
    "index_to_word = {v:k for k, v in tokenizer.word_index.items()}\n",
    "\n",
    "for word_num in range(1, len(index_to_word)):\n",
    "    word = index_to_word[word_num]\n",
    "    embeddings = w[word_num]\n",
    "    out_m.write(word + '\\n')\n",
    "    out_v.write('\\t'.join([str(x) for x in embeddings]) + '\\n')\n",
    "\n",
    "out_m.close()\n",
    "out_v.close()"
   ]
  },
  {
   "cell_type": "code",
   "execution_count": 148,
   "metadata": {},
   "outputs": [
    {
     "data": {
      "text/plain": [
       "8487"
      ]
     },
     "execution_count": 148,
     "metadata": {},
     "output_type": "execute_result"
    }
   ],
   "source": []
  }
 ],
 "metadata": {
  "interpreter": {
   "hash": "11f6428e8db965c95f0ac1093ef0aa1b3fc35bbeb9c2e33fd9b81a81227e1dfd"
  },
  "kernelspec": {
   "display_name": "Python 3.9.9 64-bit",
   "language": "python",
   "name": "python3"
  },
  "language_info": {
   "codemirror_mode": {
    "name": "ipython",
    "version": 3
   },
   "file_extension": ".py",
   "mimetype": "text/x-python",
   "name": "python",
   "nbconvert_exporter": "python",
   "pygments_lexer": "ipython3",
   "version": "3.7.2"
  },
  "orig_nbformat": 4
 },
 "nbformat": 4,
 "nbformat_minor": 2
}
