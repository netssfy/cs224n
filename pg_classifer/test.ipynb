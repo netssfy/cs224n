{
 "cells": [
  {
   "cell_type": "code",
   "execution_count": 54,
   "metadata": {},
   "outputs": [
    {
     "name": "stdout",
     "output_type": "stream",
     "text": [
      "15231\n",
      "4351\n",
      "2177\n",
      "21759\n"
     ]
    }
   ],
   "source": [
    "import importlib\n",
    "\n",
    "import numpy as np\n",
    "import pg_classifer\n",
    "\n",
    "importlib.reload(pg_classifer)\n",
    "\n",
    "import pg_classifer as pg\n",
    "\n",
    "rawData = pg.load_raw_data()\n",
    "split_data = pg.split_data(rawData)\n",
    "train_data = split_data[0]\n",
    "test_data = split_data[1]\n",
    "val_data = split_data[2]\n",
    "\n",
    "assert train_data[0].shape[0] + test_data[0].shape[0] + val_data[0].shape[0] == rawData.shape[0]"
   ]
  }
 ],
 "metadata": {
  "interpreter": {
   "hash": "11f6428e8db965c95f0ac1093ef0aa1b3fc35bbeb9c2e33fd9b81a81227e1dfd"
  },
  "kernelspec": {
   "display_name": "Python 3.9.9 64-bit",
   "language": "python",
   "name": "python3"
  },
  "language_info": {
   "codemirror_mode": {
    "name": "ipython",
    "version": 3
   },
   "file_extension": ".py",
   "mimetype": "text/x-python",
   "name": "python",
   "nbconvert_exporter": "python",
   "pygments_lexer": "ipython3",
   "version": "3.9.9"
  },
  "orig_nbformat": 4
 },
 "nbformat": 4,
 "nbformat_minor": 2
}
